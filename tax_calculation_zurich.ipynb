{
 "cells": [
  {
   "cell_type": "markdown",
   "metadata": {},
   "source": [
    "# Tax Calculation for Zürich"
   ]
  },
  {
   "cell_type": "code",
   "execution_count": 1,
   "metadata": {},
   "outputs": [],
   "source": [
    "import pandas as pd\n",
    "import matplotlib.pyplot as plt\n",
    "from enum import Enum"
   ]
  },
  {
   "cell_type": "markdown",
   "metadata": {},
   "source": [
    "## Type of Taxes\n",
    "\n",
    "### Einkommensteuer\n",
    "Individual's income, which includes earnings from employment, self-employment, pensions, and investments.\n",
    "\n",
    "### Vermögensteuer\n",
    "Wealth of a person, which includes the total value of their assets such as real estate, bank accounts, securities. The rates are generally low, often ranging from a fraction of a percent to a few percent.\n",
    "\n",
    "## Tax rates (Tarif)\n",
    "\n",
    "### Grundtarif (Basic Rate)\n",
    "This is the tax rate applied to single individuals. It is typically higher per unit of income compared to the married rate.\n",
    "\n",
    "### Verheiratetentarif (Married Rate)\n",
    "This rate applies to married couples and registered partners. These rates are generally more favorable than the basic rate."
   ]
  },
  {
   "cell_type": "code",
   "execution_count": 2,
   "metadata": {},
   "outputs": [],
   "source": [
    "class TaxType(Enum):\n",
    "    EINKOMMEN = 1\n",
    "    VERMOEGEN = 2\n",
    "\n",
    "class Tarif(Enum):\n",
    "    GRUNDTARIF = 1\n",
    "    VERHEIRATETENTARIF = 2"
   ]
  },
  {
   "cell_type": "markdown",
   "metadata": {},
   "source": [
    "Each of Switzerland's 26 cantons has its own tax system, meaning that both rates and calculations can vary from one canton to another. The Canton of Zurich has a progressive tax rate system for income and wealth taxes. This means that as an individual's income increases, the tax rate applied to that income also increases.\n",
    "Tax rates in Zurich are detailed in \"Tarif Tabellen\" (tax rate tables), which provide the specific tax amounts on various levels of income and wealth as well as the Tarif (Single or Married). \n",
    "\n",
    "The tax rate tables for Zurich can be found on the Cantons website: [Steuertarife 2018 PDF](https://www.zh.ch/content/dam/zhweb/bilder-dokumente/themen/steuern-finanzen/steuern/natuerlichepersonen/steuertarife/steuertarif_2018_staatssteuer_bundessteuer.pdf)\n",
    "\n",
    "To load the tariftablle execute the following code, change TaxType and Tarif to the desired values:"
   ]
  },
  {
   "cell_type": "code",
   "execution_count": 3,
   "metadata": {},
   "outputs": [
    {
     "data": {
      "text/html": [
       "<div>\n",
       "<style scoped>\n",
       "    .dataframe tbody tr th:only-of-type {\n",
       "        vertical-align: middle;\n",
       "    }\n",
       "\n",
       "    .dataframe tbody tr th {\n",
       "        vertical-align: top;\n",
       "    }\n",
       "\n",
       "    .dataframe thead th {\n",
       "        text-align: right;\n",
       "    }\n",
       "</style>\n",
       "<table border=\"1\" class=\"dataframe\">\n",
       "  <thead>\n",
       "    <tr style=\"text-align: right;\">\n",
       "      <th></th>\n",
       "      <th>Einkommensbereich (CHF)</th>\n",
       "      <th>Steuer Grundtarif (CHF)</th>\n",
       "      <th>Zusätzlicher Steuerbetrag pro 100 CHF</th>\n",
       "    </tr>\n",
       "  </thead>\n",
       "  <tbody>\n",
       "    <tr>\n",
       "      <th>0</th>\n",
       "      <td>13500</td>\n",
       "      <td>0</td>\n",
       "      <td>2</td>\n",
       "    </tr>\n",
       "    <tr>\n",
       "      <th>1</th>\n",
       "      <td>19600</td>\n",
       "      <td>122</td>\n",
       "      <td>3</td>\n",
       "    </tr>\n",
       "    <tr>\n",
       "      <th>2</th>\n",
       "      <td>27300</td>\n",
       "      <td>353</td>\n",
       "      <td>4</td>\n",
       "    </tr>\n",
       "    <tr>\n",
       "      <th>3</th>\n",
       "      <td>36700</td>\n",
       "      <td>729</td>\n",
       "      <td>5</td>\n",
       "    </tr>\n",
       "    <tr>\n",
       "      <th>4</th>\n",
       "      <td>47400</td>\n",
       "      <td>1264</td>\n",
       "      <td>6</td>\n",
       "    </tr>\n",
       "    <tr>\n",
       "      <th>5</th>\n",
       "      <td>61300</td>\n",
       "      <td>2098</td>\n",
       "      <td>7</td>\n",
       "    </tr>\n",
       "    <tr>\n",
       "      <th>6</th>\n",
       "      <td>92100</td>\n",
       "      <td>4254</td>\n",
       "      <td>8</td>\n",
       "    </tr>\n",
       "    <tr>\n",
       "      <th>7</th>\n",
       "      <td>122900</td>\n",
       "      <td>6718</td>\n",
       "      <td>9</td>\n",
       "    </tr>\n",
       "    <tr>\n",
       "      <th>8</th>\n",
       "      <td>169300</td>\n",
       "      <td>10894</td>\n",
       "      <td>10</td>\n",
       "    </tr>\n",
       "    <tr>\n",
       "      <th>9</th>\n",
       "      <td>224700</td>\n",
       "      <td>16434</td>\n",
       "      <td>11</td>\n",
       "    </tr>\n",
       "    <tr>\n",
       "      <th>10</th>\n",
       "      <td>284800</td>\n",
       "      <td>23045</td>\n",
       "      <td>12</td>\n",
       "    </tr>\n",
       "    <tr>\n",
       "      <th>11</th>\n",
       "      <td>354100</td>\n",
       "      <td>31361</td>\n",
       "      <td>13</td>\n",
       "    </tr>\n",
       "  </tbody>\n",
       "</table>\n",
       "</div>"
      ],
      "text/plain": [
       "    Einkommensbereich (CHF)  Steuer Grundtarif (CHF)  \\\n",
       "0                     13500                        0   \n",
       "1                     19600                      122   \n",
       "2                     27300                      353   \n",
       "3                     36700                      729   \n",
       "4                     47400                     1264   \n",
       "5                     61300                     2098   \n",
       "6                     92100                     4254   \n",
       "7                    122900                     6718   \n",
       "8                    169300                    10894   \n",
       "9                    224700                    16434   \n",
       "10                   284800                    23045   \n",
       "11                   354100                    31361   \n",
       "\n",
       "    Zusätzlicher Steuerbetrag pro 100 CHF  \n",
       "0                                       2  \n",
       "1                                       3  \n",
       "2                                       4  \n",
       "3                                       5  \n",
       "4                                       6  \n",
       "5                                       7  \n",
       "6                                       8  \n",
       "7                                       9  \n",
       "8                                      10  \n",
       "9                                      11  \n",
       "10                                     12  \n",
       "11                                     13  "
      ]
     },
     "execution_count": 3,
     "metadata": {},
     "output_type": "execute_result"
    }
   ],
   "source": [
    "\n",
    "def select_tariftabelle(year, tax_type: TaxType, tarif: Tarif):\n",
    "    filename = f\"./tariftabellen/{year}-{tax_type.name.lower()}-{tarif.name.lower()}.csv\"\n",
    "    if tax_type == TaxType.EINKOMMEN:\n",
    "        names = ['Einkommensbereich (CHF)', 'Steuer Grundtarif (CHF)', 'Zusätzlicher Steuerbetrag pro 100 CHF']\n",
    "    else:\n",
    "        names = ['steuerbares Vermögen (CHF)', 'Steuer (CHF)', 'für je weitere 1000. Vemögen']\n",
    "    return pd.read_csv(filename, names=names, skiprows=1, header=None)\n",
    "\n",
    "select_tariftabelle(2018, TaxType.EINKOMMEN, Tarif.VERHEIRATETENTARIF)"
   ]
  },
  {
   "cell_type": "markdown",
   "metadata": {},
   "source": [
    "Visualize the progression of the tax rate for the Canton of Zurich:"
   ]
  },
  {
   "cell_type": "code",
   "execution_count": 4,
   "metadata": {},
   "outputs": [
    {
     "data": {
      "image/png": "[encoded data removed]",
      "text/plain": [
       "<Figure size 1000x600 with 1 Axes>"
      ]
     },
     "metadata": {},
     "output_type": "display_data"
    }
   ],
   "source": [
    "tarif_tabelle_einkommen = select_tariftabelle(2018, TaxType.EINKOMMEN, Tarif.GRUNDTARIF)\n",
    "\n",
    "plt.figure(figsize=(10, 6))\n",
    "plt.step(tarif_tabelle_einkommen['Einkommensbereich (CHF)'], tarif_tabelle_einkommen['Steuer Grundtarif (CHF)'], where='post')\n",
    "plt.xlabel('Income Range (CHF)')\n",
    "plt.ylabel('Tax Amount (CHF)')\n",
    "plt.title('Tax Step Progression for Income - Basic Rate')\n",
    "plt.xlim(left=0)\n",
    "plt.grid(True)\n",
    "plt.minorticks_on()\n",
    "plt.grid(which='major', linestyle='-', linewidth='0.5', color='black')\n",
    "plt.grid(which='minor', linestyle=':', linewidth='0.5', color='gray')\n",
    "plt.show()"
   ]
  },
  {
   "cell_type": "markdown",
   "metadata": {},
   "source": [
    "## Einfache Steuer (Simple Tax)\n",
    "\n",
    "- **Einfache Steuer**: Calculated as a percentage of the income.\n",
    "- **Steuer Grundtarif**: Selected from the tariff table based on the range of the `satzbestimmendes Einkommen`.\n",
    "- **Satzbestimmendes Einkommen**: The income that determines the tax rate. This differs from the total income, as certain deductions are made before the tax rate is applied.\n",
    "- **Einkommensbereich**: The actual taxable income of the taxpayer.\n",
    "- **Zusätzlicher Steuerbetrag pro 100 CHF**: The additional tax amount per 100 CHF of income above the `Einkommensbereich`.\n",
    "- **Satz**: The tax rate is calculated as a percentage of the `satzbestimmendes Einkommen`. This is the rate at which the tax is applied to the income.\n",
    "\n",
    "Formula for the Berechnete Steuer:\n",
    "\n",
    "$$\n",
    "\\text{Berechnete Steuer (CHF)} = \\text{Steuer Grundtarif (CHF)} + \\left(\\frac{\\text{Satzbestimmendes Einkommen (CHF)} - \\text{Einkommensbereich (CHF)}}{100}\\right) \\times \\text{Zusätzlicher Steuerbetrag pro 100 CHF}\n",
    "$$\n",
    "\n",
    "Formula for the Satz:\n",
    "\n",
    "$$\n",
    "\\text{Satz} = \\frac{\\text{Berechnete Steuer (CHF)} \\times 100}{\\text{Satzbestimmendes Einkommen (CHF)}}\n",
    "$$\n",
    "\n",
    "Formula for the Einfache Steuer:\n",
    "$$\n",
    "\\text{Einfache Steuer (CHF)} = \\frac{\\text{Einkommen (CHF)}}{100} \\times \\text{Satz}\n",
    "$$"
   ]
  },
  {
   "cell_type": "code",
   "execution_count": 17,
   "metadata": {},
   "outputs": [
    {
     "name": "stdout",
     "output_type": "stream",
     "text": [
      "Einfache Steuer:  5036.80 CHF\n",
      "Satz:  6.30 %\n"
     ]
    }
   ],
   "source": [
    "\n",
    "def calculate_einfache_steuer_einkommen(year, tarif: Tarif, einkommen, satzbestimmend):\n",
    "    data = select_tariftabelle(year, TaxType.EINKOMMEN, tarif)\n",
    "    first_bracket = data.iloc[0]\n",
    "    if satzbestimmend <= first_bracket.iloc[0]:\n",
    "        return 0\n",
    "    \n",
    "    current_bracket = first_bracket\n",
    "    for bracket in data.itertuples():\n",
    "        if satzbestimmend < bracket[1]:\n",
    "            break\n",
    "        else:\n",
    "            current_bracket = bracket\n",
    "    berechnete_steuer = current_bracket[2] + (satzbestimmend - current_bracket[1]) / 100 * current_bracket[3]\n",
    "    satz = berechnete_steuer / (satzbestimmend / 100) # pro 100 CHF\n",
    "    betrag = einkommen / 100 * satz\n",
    "    return {\n",
    "        'satz': satz,\n",
    "        'betrag': betrag\n",
    "    }\n",
    "\n",
    "einfche_steuer = calculate_einfache_steuer_einkommen(2018, Tarif.GRUNDTARIF, 80000, 100000)\n",
    "print(\"Einfache Steuer Einkommen: \", \"{:.2f}\".format(einfche_steuer['betrag']), \"CHF\")\n",
    "print(\"Satz: \", \"{:.2f}\".format(einfche_steuer['satz']), \"%\")"
   ]
  },
  {
   "cell_type": "markdown",
   "metadata": {},
   "source": [
    "The same formulas are used for the Vermögensteuer. Since there is no satzbestimmendes Vermögen, the tax rate is applied to the total wealth of the individual."
   ]
  },
  {
   "cell_type": "code",
   "execution_count": 18,
   "metadata": {},
   "outputs": [
    {
     "name": "stdout",
     "output_type": "stream",
     "text": [
      "Einfache Steuer Vermögen:  48.00 CHF\n",
      "Satz:  0.02 %\n"
     ]
    }
   ],
   "source": [
    "\n",
    "def calculate_einfache_steuer_vermoegen(year, tarif: Tarif, vermoegen):\n",
    "    data = select_tariftabelle(year, TaxType.VERMOEGEN, tarif)\n",
    "    first_bracket = data.iloc[0]\n",
    "    if vermoegen <= first_bracket.iloc[0]:\n",
    "        return 0\n",
    "    current_bracket = first_bracket\n",
    "    for bracket in data.itertuples():\n",
    "        if vermoegen < bracket[1]:\n",
    "            break\n",
    "        else:\n",
    "            current_bracket = bracket\n",
    "    betrag = current_bracket[2] + (vermoegen - current_bracket[1]) / 1000 * current_bracket[3]\n",
    "    satz = betrag / (vermoegen / 100)\n",
    "    return {\n",
    "        'satz': satz,\n",
    "        'betrag': betrag\n",
    "    }\n",
    "    \n",
    "einfche_steuer = calculate_einfache_steuer_vermoegen(2018, Tarif.VERHEIRATETENTARIF, 250000)\n",
    "print(\"Einfache Steuer Vermögen: \", \"{:.2f}\".format(einfche_steuer['betrag']), \"CHF\")\n",
    "print(\"Satz: \", \"{:.2f}\".format(einfche_steuer['satz']), \"%\")"
   ]
  },
  {
   "cell_type": "markdown",
   "metadata": {},
   "source": [
    "The total Staats- und Gemeindesteuer combines both income and wealth in Switzerland. The total tax is the sum of two components:\n",
    "    * Einfache Steuer Einkommen\n",
    "    * Einfache Steuer Vermögen\n",
    "\n",
    "Each component is calculated by applying respective tax rates from the cantonal (Kantonssteuerfuss) and municipal (Gemeindesteuerfuss):\n",
    "\n",
    "$$\n",
    "\\text{{Staats- u. Gemeindesteuer}} = (\\text{{Einfache Steuer Einkommen}} \\cdot (\\text{{Kantonssteuerfuss}} + \\text{{Gemeindesteuerfuss}})) + (\\text{{Einfache Steuer Vermögen}} \\cdot (\\text{{Kantonssteuerfuss}} + \\text{{Gemeindesteuerfuss}}))\n",
    "$$"
   ]
  },
  {
   "cell_type": "code",
   "execution_count": 7,
   "metadata": {},
   "outputs": [
    {
     "name": "stdout",
     "output_type": "stream",
     "text": [
      "Staats- u. Gemeindesteuer: 8625.82 CHF\n"
     ]
    }
   ],
   "source": [
    "def calculate_staats_gemeinde_steuern(year, tarif: Tarif, einkommen, satzbestimmend, vermoegen):\n",
    "    einfache_steuer_einkommen = calculate_einfache_steuer_einkommen(year, tarif, einkommen, satzbestimmend)['betrag']\n",
    "    einfache_steuer_vermoegen = calculate_einfache_steuer_vermoegen(year, tarif, vermoegen)['betrag']\n",
    "    staatssteuerfuss = 0.99  # Example value, replace with actual method to fetch the tax rate\n",
    "    gemeindesteuerfuss = 1.19\n",
    "\n",
    "    total_steuer_einkommen = einfache_steuer_einkommen * (staatssteuerfuss + gemeindesteuerfuss)\n",
    "    total_steuer_vermoegen = einfache_steuer_vermoegen * (staatssteuerfuss + gemeindesteuerfuss)\n",
    "\n",
    "    return total_steuer_einkommen + total_steuer_vermoegen\n",
    "\n",
    "staats_gemeinde_steuer = calculate_staats_gemeinde_steuern(\n",
    "    year = 2018, \n",
    "    tarif = Tarif.VERHEIRATETENTARIF, \n",
    "    einkommen = 80000, \n",
    "    satzbestimmend = 100000, \n",
    "    vermoegen = 250000\n",
    ")\n",
    "print(f\"Staats- u. Gemeindesteuer: {staats_gemeinde_steuer:.2f} CHF\")"
   ]
  }
 ],
 "metadata": {
  "kernelspec": {
   "display_name": "env",
   "language": "python",
   "name": "python3"
  },
  "language_info": {
   "codemirror_mode": {
    "name": "ipython",
    "version": 3
   },
   "file_extension": ".py",
   "mimetype": "text/x-python",
   "name": "python",
   "nbconvert_exporter": "python",
   "pygments_lexer": "ipython3",
   "version": "3.12.3"
  }
 },
 "nbformat": 4,
 "nbformat_minor": 2
}
